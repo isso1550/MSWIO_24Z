{
 "cells": [
  {
   "cell_type": "code",
   "execution_count": 1,
   "metadata": {
    "ExecuteTime": {
     "end_time": "2021-11-30T13:12:06.594980Z",
     "start_time": "2021-11-30T13:12:01.097313Z"
    },
    "code_folding": [
     0,
     17
    ]
   },
   "outputs": [
    {
     "name": "stderr",
     "output_type": "stream",
     "text": [
      "C:\\Users\\student\\AppData\\Local\\Temp\\ipykernel_13040\\3168963534.py:20: DeprecationWarning: Importing display from IPython.core.display is deprecated since IPython 7.14, please import from IPython display\n",
      "  from IPython.core.display import display, HTML\n"
     ]
    },
    {
     "data": {
      "text/html": [
       "<style>.container { width:100% !important; }</style>"
      ],
      "text/plain": [
       "<IPython.core.display.HTML object>"
      ]
     },
     "metadata": {},
     "output_type": "display_data"
    }
   ],
   "source": [
    "#biblioteki i funkcje\n",
    "SEED_NUM=0\n",
    "import os \n",
    "os.environ['PYTHONHASHSEED']=str(SEED_NUM)\n",
    "\n",
    "\n",
    "import numpy as np\n",
    "import pandas as pd\n",
    "import random\n",
    "import matplotlib.pyplot as plt\n",
    "import winsound\n",
    "import tensorflow as tf \n",
    "from tensorflow.keras.models import Sequential\n",
    "from tensorflow.keras.layers import Dense, Dropout, Activation,LSTM\n",
    "from tensorflow.keras.activations import relu, elu, sigmoid\n",
    "from tensorflow.keras.optimizers import Adam, Nadam, RMSprop, Adagrad, Adadelta\n",
    "from tensorflow.keras.callbacks import ModelCheckpoint,EarlyStopping\n",
    "\n",
    "import datetime as dt \n",
    "from IPython.core.display import display, HTML\n",
    "display(HTML(\"<style>.container { width:100% !important; }</style>\"))\n",
    "\n",
    "def write(frame,name):\n",
    "    writer=pd.ExcelWriter(name+'.xlsx')\n",
    "    frame.to_excel(writer)\n",
    "    writer.save()\n",
    "    \n",
    "def reset_random_seeds():\n",
    "    os.environ['PYTHONHASHSEED']=str(SEED_NUM)\n",
    "    tf.random.set_seed(SEED_NUM)    \n",
    "    np.random.seed(SEED_NUM)\n",
    "    random.seed(SEED_NUM)"
   ]
  },
  {
   "cell_type": "code",
   "execution_count": 2,
   "metadata": {
    "ExecuteTime": {
     "end_time": "2021-11-30T13:12:06.641164Z",
     "start_time": "2021-11-30T13:12:06.596439Z"
    },
    "code_folding": []
   },
   "outputs": [],
   "source": [
    "#wczytywanie przykładowej ramki danych\n",
    "data=pd.read_excel('df_ex.xlsx')\n",
    "\n",
    "#Nomalizacja zmiennych\n",
    "data['A']=data['A']/100\n",
    "data['B']=data['B']/100\n",
    "data['Res']=data['Res']/10000\n",
    "\n",
    "#podział danych na treningowe/walidaycjne/testowe\n",
    "df_tr_in=data.loc[0:74,['A','B']]\n",
    "df_val_in=data.loc[75:100,['A','B']]\n",
    "df_test_in=data.loc[101:200,['A','B']]\n",
    "\n",
    "df_tr_out=data.loc[0:74,'Res']\n",
    "df_val_out=data.loc[75:100,'Res']\n",
    "df_test_out=data.loc[101:200,'Res']\n",
    "\n",
    "#przeformatowanie danych na postać macierzy 3D do lstm\n",
    "tr_samples_num=len(df_tr_in)\n",
    "in_tr=df_tr_in.values.reshape(tr_samples_num,1,len(df_tr_in.columns)) #najpierw liczba próbek, potem liczba wierszy, potem kolumn\n",
    "out_tr=df_tr_out.values.reshape(tr_samples_num,1,1)\n",
    "\n",
    "val_samples_num=len(df_val_in)\n",
    "in_val=df_val_in.values.reshape(val_samples_num,1,len(df_val_in.columns)) #najpierw liczba próbek, potem liczba wierszy, potem kolumn\n",
    "out_val=df_val_out.values.reshape(val_samples_num,1,1)\n",
    "\n",
    "test_samples_num=len(df_test_in)\n",
    "in_test=df_test_in.values.reshape(test_samples_num,1,len(df_test_in.columns)) #najpierw liczba próbek, potem liczba wierszy, potem kolumn\n",
    "out_test=df_test_out.values.reshape(test_samples_num,1,1)"
   ]
  },
  {
   "cell_type": "code",
   "execution_count": 3,
   "metadata": {
    "ExecuteTime": {
     "end_time": "2021-11-30T13:12:06.656169Z",
     "start_time": "2021-11-30T13:12:06.642167Z"
    }
   },
   "outputs": [
    {
     "data": {
      "text/plain": [
       "(75, 1, 2)"
      ]
     },
     "execution_count": 3,
     "metadata": {},
     "output_type": "execute_result"
    }
   ],
   "source": [
    "np.shape(in_tr)"
   ]
  },
  {
   "cell_type": "code",
   "execution_count": 4,
   "metadata": {
    "ExecuteTime": {
     "end_time": "2021-11-30T13:12:06.672179Z",
     "start_time": "2021-11-30T13:12:06.657169Z"
    }
   },
   "outputs": [],
   "source": [
    "#in_tr"
   ]
  },
  {
   "cell_type": "code",
   "execution_count": 5,
   "metadata": {
    "ExecuteTime": {
     "end_time": "2021-11-30T13:12:06.686932Z",
     "start_time": "2021-11-30T13:12:06.673179Z"
    }
   },
   "outputs": [],
   "source": [
    "#out_tr"
   ]
  },
  {
   "cell_type": "code",
   "execution_count": 6,
   "metadata": {
    "ExecuteTime": {
     "end_time": "2021-11-30T13:12:06.701936Z",
     "start_time": "2021-11-30T13:12:06.687933Z"
    }
   },
   "outputs": [
    {
     "data": {
      "text/html": [
       "<div>\n",
       "<style scoped>\n",
       "    .dataframe tbody tr th:only-of-type {\n",
       "        vertical-align: middle;\n",
       "    }\n",
       "\n",
       "    .dataframe tbody tr th {\n",
       "        vertical-align: top;\n",
       "    }\n",
       "\n",
       "    .dataframe thead th {\n",
       "        text-align: right;\n",
       "    }\n",
       "</style>\n",
       "<table border=\"1\" class=\"dataframe\">\n",
       "  <thead>\n",
       "    <tr style=\"text-align: right;\">\n",
       "      <th></th>\n",
       "      <th>A</th>\n",
       "      <th>B</th>\n",
       "      <th>Res</th>\n",
       "    </tr>\n",
       "  </thead>\n",
       "  <tbody>\n",
       "    <tr>\n",
       "      <th>0</th>\n",
       "      <td>0.90</td>\n",
       "      <td>0.49</td>\n",
       "      <td>0.4410</td>\n",
       "    </tr>\n",
       "    <tr>\n",
       "      <th>1</th>\n",
       "      <td>0.09</td>\n",
       "      <td>0.90</td>\n",
       "      <td>0.0810</td>\n",
       "    </tr>\n",
       "    <tr>\n",
       "      <th>2</th>\n",
       "      <td>0.59</td>\n",
       "      <td>0.73</td>\n",
       "      <td>0.4307</td>\n",
       "    </tr>\n",
       "    <tr>\n",
       "      <th>3</th>\n",
       "      <td>0.35</td>\n",
       "      <td>0.74</td>\n",
       "      <td>0.2590</td>\n",
       "    </tr>\n",
       "    <tr>\n",
       "      <th>4</th>\n",
       "      <td>0.75</td>\n",
       "      <td>0.08</td>\n",
       "      <td>0.0600</td>\n",
       "    </tr>\n",
       "    <tr>\n",
       "      <th>...</th>\n",
       "      <td>...</td>\n",
       "      <td>...</td>\n",
       "      <td>...</td>\n",
       "    </tr>\n",
       "    <tr>\n",
       "      <th>195</th>\n",
       "      <td>0.30</td>\n",
       "      <td>0.38</td>\n",
       "      <td>0.1140</td>\n",
       "    </tr>\n",
       "    <tr>\n",
       "      <th>196</th>\n",
       "      <td>0.90</td>\n",
       "      <td>0.88</td>\n",
       "      <td>0.7920</td>\n",
       "    </tr>\n",
       "    <tr>\n",
       "      <th>197</th>\n",
       "      <td>0.11</td>\n",
       "      <td>0.11</td>\n",
       "      <td>0.0121</td>\n",
       "    </tr>\n",
       "    <tr>\n",
       "      <th>198</th>\n",
       "      <td>0.05</td>\n",
       "      <td>0.56</td>\n",
       "      <td>0.0280</td>\n",
       "    </tr>\n",
       "    <tr>\n",
       "      <th>199</th>\n",
       "      <td>0.72</td>\n",
       "      <td>0.75</td>\n",
       "      <td>0.5400</td>\n",
       "    </tr>\n",
       "  </tbody>\n",
       "</table>\n",
       "<p>200 rows × 3 columns</p>\n",
       "</div>"
      ],
      "text/plain": [
       "        A     B     Res\n",
       "0    0.90  0.49  0.4410\n",
       "1    0.09  0.90  0.0810\n",
       "2    0.59  0.73  0.4307\n",
       "3    0.35  0.74  0.2590\n",
       "4    0.75  0.08  0.0600\n",
       "..    ...   ...     ...\n",
       "195  0.30  0.38  0.1140\n",
       "196  0.90  0.88  0.7920\n",
       "197  0.11  0.11  0.0121\n",
       "198  0.05  0.56  0.0280\n",
       "199  0.72  0.75  0.5400\n",
       "\n",
       "[200 rows x 3 columns]"
      ]
     },
     "execution_count": 6,
     "metadata": {},
     "output_type": "execute_result"
    }
   ],
   "source": [
    "data"
   ]
  },
  {
   "cell_type": "code",
   "execution_count": 7,
   "metadata": {
    "ExecuteTime": {
     "end_time": "2021-11-30T13:12:09.450619Z",
     "start_time": "2021-11-30T13:12:06.702936Z"
    },
    "code_folding": []
   },
   "outputs": [
    {
     "name": "stdout",
     "output_type": "stream",
     "text": [
      "Epoch 1/200\n",
      "1/1 [==============================] - 1s 929ms/step - loss: 0.2735 - val_loss: 0.2936\n",
      "Epoch 2/200\n",
      "1/1 [==============================] - 0s 16ms/step - loss: 0.2712 - val_loss: 0.2913\n",
      "Epoch 3/200\n",
      "1/1 [==============================] - 0s 16ms/step - loss: 0.2691 - val_loss: 0.2891\n",
      "Epoch 4/200\n",
      "1/1 [==============================] - 0s 16ms/step - loss: 0.2669 - val_loss: 0.2868\n",
      "Epoch 5/200\n",
      "1/1 [==============================] - 0s 16ms/step - loss: 0.2649 - val_loss: 0.2846\n",
      "Epoch 6/200\n",
      "1/1 [==============================] - 0s 7ms/step - loss: 0.2628 - val_loss: 0.2823\n",
      "Epoch 7/200\n",
      "1/1 [==============================] - 0s 16ms/step - loss: 0.2609 - val_loss: 0.2801\n",
      "Epoch 8/200\n",
      "1/1 [==============================] - 0s 16ms/step - loss: 0.2590 - val_loss: 0.2779\n",
      "Epoch 9/200\n",
      "1/1 [==============================] - 0s 16ms/step - loss: 0.2571 - val_loss: 0.2757\n",
      "Epoch 10/200\n",
      "1/1 [==============================] - 0s 16ms/step - loss: 0.2552 - val_loss: 0.2735\n",
      "Epoch 11/200\n",
      "1/1 [==============================] - 0s 16ms/step - loss: 0.2534 - val_loss: 0.2714\n",
      "Epoch 12/200\n",
      "1/1 [==============================] - 0s 26ms/step - loss: 0.2517 - val_loss: 0.2692\n",
      "Epoch 13/200\n",
      "1/1 [==============================] - 0s 16ms/step - loss: 0.2501 - val_loss: 0.2671\n",
      "Epoch 14/200\n",
      "1/1 [==============================] - 0s 16ms/step - loss: 0.2484 - val_loss: 0.2650\n",
      "Epoch 15/200\n",
      "1/1 [==============================] - 0s 16ms/step - loss: 0.2467 - val_loss: 0.2629\n",
      "Epoch 16/200\n",
      "1/1 [==============================] - 0s 0s/step - loss: 0.2451 - val_loss: 0.2608\n",
      "Epoch 17/200\n",
      "1/1 [==============================] - 0s 0s/step - loss: 0.2435 - val_loss: 0.2587\n",
      "Epoch 18/200\n",
      "1/1 [==============================] - 0s 12ms/step - loss: 0.2418 - val_loss: 0.2566\n",
      "Epoch 19/200\n",
      "1/1 [==============================] - 0s 6ms/step - loss: 0.2402 - val_loss: 0.2545\n",
      "Epoch 20/200\n",
      "1/1 [==============================] - 0s 16ms/step - loss: 0.2386 - val_loss: 0.2525\n",
      "Epoch 21/200\n",
      "1/1 [==============================] - 0s 16ms/step - loss: 0.2370 - val_loss: 0.2504\n",
      "Epoch 22/200\n",
      "1/1 [==============================] - 0s 16ms/step - loss: 0.2354 - val_loss: 0.2484\n",
      "Epoch 23/200\n",
      "1/1 [==============================] - 0s 16ms/step - loss: 0.2338 - val_loss: 0.2465\n",
      "Epoch 24/200\n",
      "1/1 [==============================] - 0s 16ms/step - loss: 0.2322 - val_loss: 0.2446\n",
      "Epoch 25/200\n",
      "1/1 [==============================] - 0s 16ms/step - loss: 0.2307 - val_loss: 0.2427\n",
      "Epoch 26/200\n",
      "1/1 [==============================] - 0s 0s/step - loss: 0.2293 - val_loss: 0.2409\n",
      "Epoch 27/200\n",
      "1/1 [==============================] - 0s 0s/step - loss: 0.2278 - val_loss: 0.2390\n",
      "Epoch 28/200\n",
      "1/1 [==============================] - 0s 0s/step - loss: 0.2264 - val_loss: 0.2371\n",
      "Epoch 29/200\n",
      "1/1 [==============================] - 0s 0s/step - loss: 0.2251 - val_loss: 0.2353\n",
      "Epoch 30/200\n",
      "1/1 [==============================] - 0s 0s/step - loss: 0.2237 - val_loss: 0.2334\n",
      "Epoch 31/200\n",
      "1/1 [==============================] - 0s 0s/step - loss: 0.2224 - val_loss: 0.2316\n",
      "Epoch 32/200\n",
      "1/1 [==============================] - 0s 7ms/step - loss: 0.2210 - val_loss: 0.2299\n",
      "Epoch 33/200\n",
      "1/1 [==============================] - 0s 16ms/step - loss: 0.2197 - val_loss: 0.2282\n",
      "Epoch 34/200\n",
      "1/1 [==============================] - 0s 16ms/step - loss: 0.2185 - val_loss: 0.2265\n",
      "Epoch 35/200\n",
      "1/1 [==============================] - 0s 16ms/step - loss: 0.2173 - val_loss: 0.2249\n",
      "Epoch 36/200\n",
      "1/1 [==============================] - 0s 16ms/step - loss: 0.2161 - val_loss: 0.2232\n",
      "Epoch 37/200\n",
      "1/1 [==============================] - 0s 16ms/step - loss: 0.2149 - val_loss: 0.2216\n",
      "Epoch 38/200\n",
      "1/1 [==============================] - 0s 16ms/step - loss: 0.2137 - val_loss: 0.2199\n",
      "Epoch 39/200\n",
      "1/1 [==============================] - 0s 7ms/step - loss: 0.2126 - val_loss: 0.2183\n",
      "Epoch 40/200\n",
      "1/1 [==============================] - 0s 16ms/step - loss: 0.2115 - val_loss: 0.2166\n",
      "Epoch 41/200\n",
      "1/1 [==============================] - 0s 16ms/step - loss: 0.2104 - val_loss: 0.2150\n",
      "Epoch 42/200\n",
      "1/1 [==============================] - 0s 16ms/step - loss: 0.2094 - val_loss: 0.2134\n",
      "Epoch 43/200\n",
      "1/1 [==============================] - 0s 16ms/step - loss: 0.2083 - val_loss: 0.2118\n",
      "Epoch 44/200\n",
      "1/1 [==============================] - 0s 16ms/step - loss: 0.2073 - val_loss: 0.2102\n",
      "Epoch 45/200\n",
      "1/1 [==============================] - 0s 16ms/step - loss: 0.2062 - val_loss: 0.2087\n",
      "Epoch 46/200\n",
      "1/1 [==============================] - 0s 0s/step - loss: 0.2052 - val_loss: 0.2073\n",
      "Epoch 47/200\n",
      "1/1 [==============================] - 0s 0s/step - loss: 0.2042 - val_loss: 0.2058\n",
      "Epoch 48/200\n",
      "1/1 [==============================] - 0s 0s/step - loss: 0.2032 - val_loss: 0.2043\n",
      "Epoch 49/200\n",
      "1/1 [==============================] - 0s 0s/step - loss: 0.2022 - val_loss: 0.2029\n",
      "Epoch 50/200\n",
      "1/1 [==============================] - 0s 0s/step - loss: 0.2013 - val_loss: 0.2015\n",
      "Epoch 51/200\n",
      "1/1 [==============================] - 0s 16ms/step - loss: 0.2004 - val_loss: 0.2002\n",
      "Epoch 52/200\n",
      "1/1 [==============================] - 0s 22ms/step - loss: 0.1996 - val_loss: 0.1989\n",
      "Epoch 53/200\n",
      "1/1 [==============================] - 0s 16ms/step - loss: 0.1988 - val_loss: 0.1976\n",
      "Epoch 54/200\n",
      "1/1 [==============================] - 0s 16ms/step - loss: 0.1981 - val_loss: 0.1963\n",
      "Epoch 55/200\n",
      "1/1 [==============================] - 0s 16ms/step - loss: 0.1975 - val_loss: 0.1951\n",
      "Epoch 56/200\n",
      "1/1 [==============================] - 0s 16ms/step - loss: 0.1968 - val_loss: 0.1938\n",
      "Epoch 57/200\n",
      "1/1 [==============================] - 0s 16ms/step - loss: 0.1961 - val_loss: 0.1926\n",
      "Epoch 58/200\n",
      "1/1 [==============================] - 0s 16ms/step - loss: 0.1955 - val_loss: 0.1914\n",
      "Epoch 59/200\n",
      "1/1 [==============================] - 0s 7ms/step - loss: 0.1948 - val_loss: 0.1902\n",
      "Epoch 60/200\n",
      "1/1 [==============================] - 0s 16ms/step - loss: 0.1941 - val_loss: 0.1891\n",
      "Epoch 61/200\n",
      "1/1 [==============================] - 0s 16ms/step - loss: 0.1935 - val_loss: 0.1880\n",
      "Epoch 62/200\n",
      "1/1 [==============================] - 0s 16ms/step - loss: 0.1928 - val_loss: 0.1869\n",
      "Epoch 63/200\n",
      "1/1 [==============================] - 0s 16ms/step - loss: 0.1922 - val_loss: 0.1858\n",
      "Epoch 64/200\n",
      "1/1 [==============================] - 0s 16ms/step - loss: 0.1915 - val_loss: 0.1848\n",
      "Epoch 65/200\n",
      "1/1 [==============================] - 0s 22ms/step - loss: 0.1909 - val_loss: 0.1839\n",
      "Epoch 66/200\n",
      "1/1 [==============================] - ETA: 0s - loss: 0.190 - 0s 0s/step - loss: 0.1902 - val_loss: 0.1829\n",
      "Epoch 67/200\n",
      "1/1 [==============================] - 0s 16ms/step - loss: 0.1896 - val_loss: 0.1820\n",
      "Epoch 68/200\n",
      "1/1 [==============================] - 0s 0s/step - loss: 0.1890 - val_loss: 0.1810\n",
      "Epoch 69/200\n",
      "1/1 [==============================] - 0s 0s/step - loss: 0.1884 - val_loss: 0.1800\n",
      "Epoch 70/200\n",
      "1/1 [==============================] - 0s 0s/step - loss: 0.1878 - val_loss: 0.1791\n",
      "Epoch 71/200\n",
      "1/1 [==============================] - 0s 0s/step - loss: 0.1872 - val_loss: 0.1781\n",
      "Epoch 72/200\n",
      "1/1 [==============================] - 0s 7ms/step - loss: 0.1866 - val_loss: 0.1772\n",
      "Epoch 73/200\n",
      "1/1 [==============================] - 0s 16ms/step - loss: 0.1860 - val_loss: 0.1762\n",
      "Epoch 74/200\n",
      "1/1 [==============================] - 0s 16ms/step - loss: 0.1854 - val_loss: 0.1752\n",
      "Epoch 75/200\n",
      "1/1 [==============================] - 0s 16ms/step - loss: 0.1848 - val_loss: 0.1743\n",
      "Epoch 76/200\n",
      "1/1 [==============================] - 0s 16ms/step - loss: 0.1843 - val_loss: 0.1734\n",
      "Epoch 77/200\n",
      "1/1 [==============================] - 0s 16ms/step - loss: 0.1837 - val_loss: 0.1725\n",
      "Epoch 78/200\n",
      "1/1 [==============================] - 0s 17ms/step - loss: 0.1831 - val_loss: 0.1717\n",
      "Epoch 79/200\n",
      "1/1 [==============================] - 0s 5ms/step - loss: 0.1825 - val_loss: 0.1708\n",
      "Epoch 80/200\n",
      "1/1 [==============================] - 0s 16ms/step - loss: 0.1819 - val_loss: 0.1699\n",
      "Epoch 81/200\n",
      "1/1 [==============================] - 0s 16ms/step - loss: 0.1812 - val_loss: 0.1690\n",
      "Epoch 82/200\n",
      "1/1 [==============================] - 0s 16ms/step - loss: 0.1806 - val_loss: 0.1681\n",
      "Epoch 83/200\n",
      "1/1 [==============================] - 0s 16ms/step - loss: 0.1800 - val_loss: 0.1674\n",
      "Epoch 84/200\n"
     ]
    },
    {
     "name": "stdout",
     "output_type": "stream",
     "text": [
      "1/1 [==============================] - 0s 16ms/step - loss: 0.1794 - val_loss: 0.1666\n",
      "Epoch 85/200\n",
      "1/1 [==============================] - 0s 22ms/step - loss: 0.1787 - val_loss: 0.1658\n",
      "Epoch 86/200\n",
      "1/1 [==============================] - 0s 16ms/step - loss: 0.1781 - val_loss: 0.1650\n",
      "Epoch 87/200\n",
      "1/1 [==============================] - 0s 0s/step - loss: 0.1775 - val_loss: 0.1642\n",
      "Epoch 88/200\n",
      "1/1 [==============================] - 0s 0s/step - loss: 0.1769 - val_loss: 0.1633\n",
      "Epoch 89/200\n",
      "1/1 [==============================] - 0s 0s/step - loss: 0.1762 - val_loss: 0.1626\n",
      "Epoch 90/200\n",
      "1/1 [==============================] - 0s 0s/step - loss: 0.1756 - val_loss: 0.1619\n",
      "Epoch 91/200\n",
      "1/1 [==============================] - 0s 0s/step - loss: 0.1750 - val_loss: 0.1613\n",
      "Epoch 92/200\n",
      "1/1 [==============================] - 0s 7ms/step - loss: 0.1743 - val_loss: 0.1607\n",
      "Epoch 93/200\n",
      "1/1 [==============================] - 0s 16ms/step - loss: 0.1737 - val_loss: 0.1601\n",
      "Epoch 94/200\n",
      "1/1 [==============================] - 0s 16ms/step - loss: 0.1730 - val_loss: 0.1595\n",
      "Epoch 95/200\n",
      "1/1 [==============================] - 0s 16ms/step - loss: 0.1724 - val_loss: 0.1589\n",
      "Epoch 96/200\n",
      "1/1 [==============================] - 0s 16ms/step - loss: 0.1717 - val_loss: 0.1583\n",
      "Epoch 97/200\n",
      "1/1 [==============================] - 0s 16ms/step - loss: 0.1711 - val_loss: 0.1577\n",
      "Epoch 98/200\n",
      "1/1 [==============================] - 0s 16ms/step - loss: 0.1705 - val_loss: 0.1571\n",
      "Epoch 99/200\n",
      "1/1 [==============================] - 0s 7ms/step - loss: 0.1700 - val_loss: 0.1565\n",
      "Epoch 100/200\n",
      "1/1 [==============================] - 0s 16ms/step - loss: 0.1694 - val_loss: 0.1559\n",
      "Epoch 101/200\n",
      "1/1 [==============================] - 0s 16ms/step - loss: 0.1689 - val_loss: 0.1553\n",
      "Epoch 102/200\n",
      "1/1 [==============================] - 0s 16ms/step - loss: 0.1684 - val_loss: 0.1547\n",
      "Epoch 103/200\n",
      "1/1 [==============================] - 0s 16ms/step - loss: 0.1679 - val_loss: 0.1541\n",
      "Epoch 104/200\n",
      "1/1 [==============================] - 0s 16ms/step - loss: 0.1675 - val_loss: 0.1535\n",
      "Epoch 105/200\n",
      "1/1 [==============================] - 0s 22ms/step - loss: 0.1671 - val_loss: 0.1530\n",
      "Epoch 106/200\n",
      "1/1 [==============================] - 0s 0s/step - loss: 0.1667 - val_loss: 0.1524\n",
      "Epoch 107/200\n",
      "1/1 [==============================] - 0s 0s/step - loss: 0.1663 - val_loss: 0.1518\n",
      "Epoch 108/200\n",
      "1/1 [==============================] - 0s 0s/step - loss: 0.1660 - val_loss: 0.1513\n",
      "Epoch 109/200\n",
      "1/1 [==============================] - 0s 0s/step - loss: 0.1657 - val_loss: 0.1508\n",
      "Epoch 110/200\n",
      "1/1 [==============================] - 0s 0s/step - loss: 0.1655 - val_loss: 0.1504\n",
      "Epoch 111/200\n",
      "1/1 [==============================] - 0s 0s/step - loss: 0.1652 - val_loss: 0.1500\n",
      "Epoch 112/200\n",
      "1/1 [==============================] - 0s 7ms/step - loss: 0.1649 - val_loss: 0.1498\n",
      "Epoch 113/200\n",
      "1/1 [==============================] - 0s 16ms/step - loss: 0.1647 - val_loss: 0.1495\n",
      "Epoch 114/200\n",
      "1/1 [==============================] - 0s 16ms/step - loss: 0.1645 - val_loss: 0.1492\n",
      "Epoch 115/200\n",
      "1/1 [==============================] - 0s 16ms/step - loss: 0.1643 - val_loss: 0.1489\n",
      "Epoch 116/200\n",
      "1/1 [==============================] - 0s 16ms/step - loss: 0.1641 - val_loss: 0.1487\n",
      "Epoch 117/200\n",
      "1/1 [==============================] - 0s 16ms/step - loss: 0.1639 - val_loss: 0.1484\n",
      "Epoch 118/200\n",
      "1/1 [==============================] - 0s 16ms/step - loss: 0.1637 - val_loss: 0.1482\n",
      "Epoch 119/200\n",
      "1/1 [==============================] - 0s 7ms/step - loss: 0.1635 - val_loss: 0.1479\n",
      "Epoch 120/200\n",
      "1/1 [==============================] - 0s 16ms/step - loss: 0.1633 - val_loss: 0.1477\n",
      "Epoch 121/200\n",
      "1/1 [==============================] - 0s 16ms/step - loss: 0.1630 - val_loss: 0.1474\n",
      "Epoch 122/200\n",
      "1/1 [==============================] - 0s 16ms/step - loss: 0.1628 - val_loss: 0.1472\n",
      "Epoch 123/200\n",
      "1/1 [==============================] - 0s 16ms/step - loss: 0.1626 - val_loss: 0.1469\n",
      "Epoch 124/200\n",
      "1/1 [==============================] - 0s 16ms/step - loss: 0.1624 - val_loss: 0.1467\n",
      "Epoch 125/200\n",
      "1/1 [==============================] - 0s 22ms/step - loss: 0.1622 - val_loss: 0.1464\n",
      "Epoch 126/200\n",
      "1/1 [==============================] - 0s 16ms/step - loss: 0.1620 - val_loss: 0.1462\n",
      "Epoch 127/200\n",
      "1/1 [==============================] - 0s 16ms/step - loss: 0.1618 - val_loss: 0.1460\n",
      "Epoch 128/200\n",
      "1/1 [==============================] - 0s 16ms/step - loss: 0.1615 - val_loss: 0.1459\n",
      "Epoch 129/200\n",
      "1/1 [==============================] - 0s 0s/step - loss: 0.1613 - val_loss: 0.1457\n",
      "Epoch 130/200\n",
      "1/1 [==============================] - 0s 0s/step - loss: 0.1611 - val_loss: 0.1455\n",
      "Epoch 131/200\n",
      "1/1 [==============================] - 0s 0s/step - loss: 0.1609 - val_loss: 0.1453\n",
      "Epoch 132/200\n",
      "1/1 [==============================] - 0s 7ms/step - loss: 0.1606 - val_loss: 0.1451\n",
      "Epoch 133/200\n",
      "1/1 [==============================] - 0s 16ms/step - loss: 0.1604 - val_loss: 0.1450\n",
      "Epoch 134/200\n",
      "1/1 [==============================] - 0s 16ms/step - loss: 0.1602 - val_loss: 0.1449\n",
      "Epoch 135/200\n",
      "1/1 [==============================] - 0s 16ms/step - loss: 0.1600 - val_loss: 0.1447\n",
      "Epoch 136/200\n",
      "1/1 [==============================] - 0s 16ms/step - loss: 0.1598 - val_loss: 0.1446\n",
      "Epoch 137/200\n",
      "1/1 [==============================] - 0s 16ms/step - loss: 0.1596 - val_loss: 0.1444\n",
      "Epoch 138/200\n",
      "1/1 [==============================] - 0s 16ms/step - loss: 0.1594 - val_loss: 0.1443\n",
      "Epoch 139/200\n",
      "1/1 [==============================] - 0s 7ms/step - loss: 0.1592 - val_loss: 0.1441\n",
      "Epoch 140/200\n",
      "1/1 [==============================] - 0s 16ms/step - loss: 0.1590 - val_loss: 0.1440\n",
      "Epoch 141/200\n",
      "1/1 [==============================] - 0s 16ms/step - loss: 0.1589 - val_loss: 0.1438\n",
      "Epoch 142/200\n",
      "1/1 [==============================] - 0s 16ms/step - loss: 0.1587 - val_loss: 0.1437\n",
      "Epoch 143/200\n",
      "1/1 [==============================] - 0s 16ms/step - loss: 0.1585 - val_loss: 0.1435\n",
      "Epoch 144/200\n",
      "1/1 [==============================] - 0s 16ms/step - loss: 0.1583 - val_loss: 0.1433\n",
      "Epoch 145/200\n",
      "1/1 [==============================] - 0s 22ms/step - loss: 0.1580 - val_loss: 0.1432\n",
      "Epoch 146/200\n",
      "1/1 [==============================] - 0s 16ms/step - loss: 0.1578 - val_loss: 0.1430\n",
      "Epoch 147/200\n",
      "1/1 [==============================] - 0s 16ms/step - loss: 0.1576 - val_loss: 0.1429\n",
      "Epoch 148/200\n",
      "1/1 [==============================] - 0s 16ms/step - loss: 0.1574 - val_loss: 0.1427\n",
      "Epoch 149/200\n",
      "1/1 [==============================] - 0s 16ms/step - loss: 0.1572 - val_loss: 0.1426\n",
      "Epoch 150/200\n",
      "1/1 [==============================] - 0s 16ms/step - loss: 0.1570 - val_loss: 0.1424\n",
      "Epoch 151/200\n",
      "1/1 [==============================] - 0s 16ms/step - loss: 0.1568 - val_loss: 0.1422\n",
      "Epoch 152/200\n",
      "1/1 [==============================] - 0s 7ms/step - loss: 0.1565 - val_loss: 0.1421\n",
      "Epoch 153/200\n",
      "1/1 [==============================] - 0s 16ms/step - loss: 0.1563 - val_loss: 0.1419\n",
      "Epoch 154/200\n",
      "1/1 [==============================] - 0s 16ms/step - loss: 0.1561 - val_loss: 0.1417\n",
      "Epoch 155/200\n",
      "1/1 [==============================] - 0s 16ms/step - loss: 0.1558 - val_loss: 0.1415\n",
      "Epoch 156/200\n",
      "1/1 [==============================] - 0s 16ms/step - loss: 0.1556 - val_loss: 0.1414\n",
      "Epoch 157/200\n",
      "1/1 [==============================] - 0s 16ms/step - loss: 0.1553 - val_loss: 0.1412\n",
      "Epoch 158/200\n",
      "1/1 [==============================] - 0s 16ms/step - loss: 0.1551 - val_loss: 0.1410\n",
      "Epoch 159/200\n",
      "1/1 [==============================] - 0s 0s/step - loss: 0.1548 - val_loss: 0.1408\n",
      "Epoch 160/200\n",
      "1/1 [==============================] - 0s 0s/step - loss: 0.1546 - val_loss: 0.1406\n",
      "Epoch 161/200\n",
      "1/1 [==============================] - 0s 0s/step - loss: 0.1543 - val_loss: 0.1404\n",
      "Epoch 162/200\n",
      "1/1 [==============================] - 0s 0s/step - loss: 0.1541 - val_loss: 0.1402\n",
      "Epoch 163/200\n",
      "1/1 [==============================] - 0s 0s/step - loss: 0.1538 - val_loss: 0.1400\n",
      "Epoch 164/200\n",
      "1/1 [==============================] - 0s 0s/step - loss: 0.1535 - val_loss: 0.1398\n",
      "Epoch 165/200\n",
      "1/1 [==============================] - 0s 7ms/step - loss: 0.1533 - val_loss: 0.1396\n",
      "Epoch 166/200\n",
      "1/1 [==============================] - 0s 16ms/step - loss: 0.1530 - val_loss: 0.1394\n",
      "Epoch 167/200\n",
      "1/1 [==============================] - 0s 16ms/step - loss: 0.1527 - val_loss: 0.1392\n",
      "Epoch 168/200\n",
      "1/1 [==============================] - 0s 16ms/step - loss: 0.1524 - val_loss: 0.1390\n",
      "Epoch 169/200\n",
      "1/1 [==============================] - 0s 16ms/step - loss: 0.1522 - val_loss: 0.1388\n",
      "Epoch 170/200\n",
      "1/1 [==============================] - 0s 16ms/step - loss: 0.1519 - val_loss: 0.1386\n",
      "Epoch 171/200\n",
      "1/1 [==============================] - 0s 16ms/step - loss: 0.1516 - val_loss: 0.1383\n",
      "Epoch 172/200\n",
      "1/1 [==============================] - 0s 7ms/step - loss: 0.1513 - val_loss: 0.1381\n",
      "Epoch 173/200\n",
      "1/1 [==============================] - 0s 16ms/step - loss: 0.1510 - val_loss: 0.1379\n",
      "Epoch 174/200\n",
      "1/1 [==============================] - 0s 16ms/step - loss: 0.1507 - val_loss: 0.1376\n",
      "Epoch 175/200\n",
      "1/1 [==============================] - 0s 16ms/step - loss: 0.1504 - val_loss: 0.1374\n",
      "Epoch 176/200\n",
      "1/1 [==============================] - 0s 16ms/step - loss: 0.1501 - val_loss: 0.1371\n",
      "Epoch 177/200\n",
      "1/1 [==============================] - 0s 16ms/step - loss: 0.1497 - val_loss: 0.1369\n",
      "Epoch 178/200\n",
      "1/1 [==============================] - 0s 22ms/step - loss: 0.1494 - val_loss: 0.1366\n",
      "Epoch 179/200\n",
      "1/1 [==============================] - 0s 16ms/step - loss: 0.1491 - val_loss: 0.1364\n",
      "Epoch 180/200\n",
      "1/1 [==============================] - 0s 16ms/step - loss: 0.1488 - val_loss: 0.1361\n",
      "Epoch 181/200\n",
      "1/1 [==============================] - 0s 16ms/step - loss: 0.1484 - val_loss: 0.1358\n",
      "Epoch 182/200\n",
      "1/1 [==============================] - 0s 16ms/step - loss: 0.1481 - val_loss: 0.1356\n",
      "Epoch 183/200\n",
      "1/1 [==============================] - 0s 16ms/step - loss: 0.1478 - val_loss: 0.1353\n",
      "Epoch 184/200\n",
      "1/1 [==============================] - 0s 16ms/step - loss: 0.1474 - val_loss: 0.1350\n",
      "Epoch 185/200\n",
      "1/1 [==============================] - 0s 7ms/step - loss: 0.1471 - val_loss: 0.1347\n",
      "Epoch 186/200\n",
      "1/1 [==============================] - 0s 16ms/step - loss: 0.1467 - val_loss: 0.1345\n",
      "Epoch 187/200\n",
      "1/1 [==============================] - 0s 16ms/step - loss: 0.1463 - val_loss: 0.1342\n",
      "Epoch 188/200\n",
      "1/1 [==============================] - 0s 16ms/step - loss: 0.1460 - val_loss: 0.1339\n",
      "Epoch 189/200\n",
      "1/1 [==============================] - 0s 16ms/step - loss: 0.1456 - val_loss: 0.1336\n",
      "Epoch 190/200\n",
      "1/1 [==============================] - 0s 16ms/step - loss: 0.1452 - val_loss: 0.1333\n",
      "Epoch 191/200\n",
      "1/1 [==============================] - 0s 16ms/step - loss: 0.1448 - val_loss: 0.1330\n",
      "Epoch 192/200\n",
      "1/1 [==============================] - 0s 0s/step - loss: 0.1444 - val_loss: 0.1326\n",
      "Epoch 193/200\n",
      "1/1 [==============================] - 0s 0s/step - loss: 0.1440 - val_loss: 0.1323\n",
      "Epoch 194/200\n",
      "1/1 [==============================] - 0s 0s/step - loss: 0.1436 - val_loss: 0.1320\n",
      "Epoch 195/200\n",
      "1/1 [==============================] - 0s 0s/step - loss: 0.1432 - val_loss: 0.1317\n",
      "Epoch 196/200\n",
      "1/1 [==============================] - 0s 0s/step - loss: 0.1428 - val_loss: 0.1313\n",
      "Epoch 197/200\n",
      "1/1 [==============================] - 0s 0s/step - loss: 0.1424 - val_loss: 0.1310\n",
      "Epoch 198/200\n",
      "1/1 [==============================] - 0s 22ms/step - loss: 0.1419 - val_loss: 0.1307\n",
      "Epoch 199/200\n",
      "1/1 [==============================] - 0s 16ms/step - loss: 0.1415 - val_loss: 0.1303\n",
      "Epoch 200/200\n",
      "1/1 [==============================] - 0s 16ms/step - loss: 0.1411 - val_loss: 0.1300\n",
      "1/1 [==============================] - 0s 0s/step - loss: 0.1424\n",
      "MAE test [%] = 14.239227771759033 ,uczenie= 14.10662829875946, sprawdz=12.997248768806458\n"
     ]
    },
    {
     "data": {
      "image/png": "[encoded data removed]",
      "text/plain": [
       "<Figure size 432x288 with 1 Axes>"
      ]
     },
     "metadata": {
      "needs_background": "light"
     },
     "output_type": "display_data"
    },
    {
     "name": "stdout",
     "output_type": "stream",
     "text": [
      "CPU times: total: 9.78 s\n",
      "Wall time: 11.4 s\n"
     ]
    }
   ],
   "source": [
    "%%time\n",
    "# manualne lstm\n",
    "\n",
    "#model\n",
    "\n",
    "reset_random_seeds()\n",
    "\n",
    "\n",
    "model = Sequential()\n",
    "#(timesteps, data_dim)\n",
    "\n",
    "model.add(LSTM(8,return_sequences=True, input_shape=(in_tr.shape[1],in_tr.shape[2]),activation='tanh'))\n",
    "#model.add(Dense(8,input_shape=(in_tr.shape[1],in_tr.shape[2]),activation='tanh'))\n",
    "#model.add(LSTM(8,return_sequences=True, activation='tanh'))\n",
    "#model.add(Dropout(0.8))\n",
    "#model.add(Dense(10, activation='relu'))\n",
    "model.add(LSTM(4,return_sequences=True,activation='tanh'))\n",
    "#model.add(LSTM(3,return_sequences=True,activation='sigmoid'))\n",
    "#model.add(Dropout(0.2))\n",
    "model.add(Dense(1, activation='linear'))\n",
    "\n",
    "#opt=  Adam(lr=1e-4, decay=1e-5)\n",
    "#sgd = SGD(lr=0.001, clipvalue=0.5,nesterov=True,momentum=0.8,clipnorm=1.0)\n",
    "#opt = SGD(lr=0.001, decay=1e-6, momentum=0.8, nesterov=True)\n",
    "#opt = Adagrad(lr=0.01, epsilon=1e-6, decay=0.0) #ładny wykres loss, mae ~0.115\n",
    "#opt = RMSprop(lr=0.001, rho=0.9, epsilon=1e-6)\n",
    "#opt =Adadelta(lr=1.0, rho=0.95, epsilon=None, decay=0.0)\n",
    "opt= Adam(lr=0.001, beta_1=0.9, beta_2=0.999, epsilon=1e-07, decay=0.0001, amsgrad=True)\n",
    "#opt= Nadam(lr=0.0001, beta_1=0.9, beta_2=0.999, epsilon=1e-07)\n",
    "#opt=Ftrl(lr=0.001,learning_rate_power=-0.5,initial_accumulator_value=0.1,l1_regularization_strength=0.0,l2_regularization_strength=0.0,l2_shrinkage_regularization_strength=0.0,)\n",
    "model.compile(loss='mae',optimizer=opt)\n",
    "\n",
    "pat=20\n",
    "epo=200\n",
    "\n",
    "early_stopping =EarlyStopping(monitor='val_loss', patience=pat)\n",
    "#instrukja uczenia modelu\n",
    "history=model.fit(in_tr, out_tr,validation_data=(in_val,out_val),epochs=epo,batch_size=128,verbose=1,shuffle=True,callbacks=[early_stopping]) \n",
    "#instrukja walidacji modelu\n",
    "score = model.evaluate(in_test, out_test, batch_size=128) #instrukcja testowania modelu\n",
    "\n",
    "ucz=history.history['loss'][-1]\n",
    "spr=history.history['val_loss'][-1]\n",
    "prognosis=model.predict(in_test, batch_size=None, verbose=0, steps=None) #wpisać jak chce się wartości przewidywane uzyskać\n",
    "print(f'MAE test [%] = {score*100} ,uczenie= {ucz*100}, sprawdz={spr*100}')\n",
    "\n",
    "prognosis2=prognosis.flatten().tolist()\n",
    "out_test2=out_test.flatten().tolist()\n",
    "out=pd.DataFrame(list(zip(prognosis2,out_test2)))\n",
    "out.columns=['prognosis','reals']\n",
    "\n",
    "write(out,'prognoza_iter')\n",
    "\n",
    "plt.plot(history.history['loss'])\n",
    "plt.plot(history.history['val_loss'])\n",
    "plt.title('Model loss')\n",
    "plt.ylabel('Loss')\n",
    "plt.xlabel('Epoch')\n",
    "plt.legend(['Train', 'Val'], loc='upper left')\n",
    "plt.show()"
   ]
  },
  {
   "cell_type": "code",
   "execution_count": null,
   "metadata": {},
   "outputs": [],
   "source": []
  },
  {
   "cell_type": "code",
   "execution_count": 8,
   "metadata": {},
   "outputs": [],
   "source": [
    "#wczytywanie przykładowej ramki danych\n",
    "data=pd.read_excel('df_ex.xlsx')\n"
   ]
  },
  {
   "cell_type": "code",
   "execution_count": 9,
   "metadata": {},
   "outputs": [
    {
     "name": "stdout",
     "output_type": "stream",
     "text": [
      "      A   B   Res\n",
      "0    90  49  4410\n",
      "1     9  90   810\n",
      "2    59  73  4307\n",
      "3    35  74  2590\n",
      "4    75   8   600\n",
      "..   ..  ..   ...\n",
      "195  30  38  1140\n",
      "196  90  88  7920\n",
      "197  11  11   121\n",
      "198   5  56   280\n",
      "199  72  75  5400\n",
      "\n",
      "[200 rows x 3 columns]\n"
     ]
    }
   ],
   "source": [
    "print(data)\n"
   ]
  },
  {
   "cell_type": "code",
   "execution_count": 10,
   "metadata": {},
   "outputs": [],
   "source": [
    "data['abcd']=data['A'].apply( lambda x: x**2)"
   ]
  },
  {
   "cell_type": "code",
   "execution_count": 11,
   "metadata": {},
   "outputs": [
    {
     "ename": "KeyError",
     "evalue": "'czas'",
     "output_type": "error",
     "traceback": [
      "\u001b[1;31m---------------------------------------------------------------------------\u001b[0m",
      "\u001b[1;31mKeyError\u001b[0m                                  Traceback (most recent call last)",
      "File \u001b[1;32m~\\Anaconda3\\envs\\tf_lab\\lib\\site-packages\\pandas\\core\\indexes\\base.py:3621\u001b[0m, in \u001b[0;36mIndex.get_loc\u001b[1;34m(self, key, method, tolerance)\u001b[0m\n\u001b[0;32m   3620\u001b[0m \u001b[38;5;28;01mtry\u001b[39;00m:\n\u001b[1;32m-> 3621\u001b[0m     \u001b[38;5;28;01mreturn\u001b[39;00m \u001b[38;5;28;43mself\u001b[39;49m\u001b[38;5;241;43m.\u001b[39;49m\u001b[43m_engine\u001b[49m\u001b[38;5;241;43m.\u001b[39;49m\u001b[43mget_loc\u001b[49m\u001b[43m(\u001b[49m\u001b[43mcasted_key\u001b[49m\u001b[43m)\u001b[49m\n\u001b[0;32m   3622\u001b[0m \u001b[38;5;28;01mexcept\u001b[39;00m \u001b[38;5;167;01mKeyError\u001b[39;00m \u001b[38;5;28;01mas\u001b[39;00m err:\n",
      "File \u001b[1;32m~\\Anaconda3\\envs\\tf_lab\\lib\\site-packages\\pandas\\_libs\\index.pyx:136\u001b[0m, in \u001b[0;36mpandas._libs.index.IndexEngine.get_loc\u001b[1;34m()\u001b[0m\n",
      "File \u001b[1;32m~\\Anaconda3\\envs\\tf_lab\\lib\\site-packages\\pandas\\_libs\\index.pyx:163\u001b[0m, in \u001b[0;36mpandas._libs.index.IndexEngine.get_loc\u001b[1;34m()\u001b[0m\n",
      "File \u001b[1;32mpandas\\_libs\\hashtable_class_helper.pxi:5198\u001b[0m, in \u001b[0;36mpandas._libs.hashtable.PyObjectHashTable.get_item\u001b[1;34m()\u001b[0m\n",
      "File \u001b[1;32mpandas\\_libs\\hashtable_class_helper.pxi:5206\u001b[0m, in \u001b[0;36mpandas._libs.hashtable.PyObjectHashTable.get_item\u001b[1;34m()\u001b[0m\n",
      "\u001b[1;31mKeyError\u001b[0m: 'czas'",
      "\nThe above exception was the direct cause of the following exception:\n",
      "\u001b[1;31mKeyError\u001b[0m                                  Traceback (most recent call last)",
      "Input \u001b[1;32mIn [11]\u001b[0m, in \u001b[0;36m<cell line: 1>\u001b[1;34m()\u001b[0m\n\u001b[1;32m----> 1\u001b[0m data[\u001b[38;5;124m'\u001b[39m\u001b[38;5;124mabcd\u001b[39m\u001b[38;5;124m'\u001b[39m]\u001b[38;5;241m=\u001b[39m\u001b[43mdata\u001b[49m\u001b[43m[\u001b[49m\u001b[38;5;124;43m'\u001b[39;49m\u001b[38;5;124;43mczas\u001b[39;49m\u001b[38;5;124;43m'\u001b[39;49m\u001b[43m]\u001b[49m\u001b[38;5;241m.\u001b[39mdt\u001b[38;5;241m.\u001b[39mhour\n",
      "File \u001b[1;32m~\\Anaconda3\\envs\\tf_lab\\lib\\site-packages\\pandas\\core\\frame.py:3505\u001b[0m, in \u001b[0;36mDataFrame.__getitem__\u001b[1;34m(self, key)\u001b[0m\n\u001b[0;32m   3503\u001b[0m \u001b[38;5;28;01mif\u001b[39;00m \u001b[38;5;28mself\u001b[39m\u001b[38;5;241m.\u001b[39mcolumns\u001b[38;5;241m.\u001b[39mnlevels \u001b[38;5;241m>\u001b[39m \u001b[38;5;241m1\u001b[39m:\n\u001b[0;32m   3504\u001b[0m     \u001b[38;5;28;01mreturn\u001b[39;00m \u001b[38;5;28mself\u001b[39m\u001b[38;5;241m.\u001b[39m_getitem_multilevel(key)\n\u001b[1;32m-> 3505\u001b[0m indexer \u001b[38;5;241m=\u001b[39m \u001b[38;5;28;43mself\u001b[39;49m\u001b[38;5;241;43m.\u001b[39;49m\u001b[43mcolumns\u001b[49m\u001b[38;5;241;43m.\u001b[39;49m\u001b[43mget_loc\u001b[49m\u001b[43m(\u001b[49m\u001b[43mkey\u001b[49m\u001b[43m)\u001b[49m\n\u001b[0;32m   3506\u001b[0m \u001b[38;5;28;01mif\u001b[39;00m is_integer(indexer):\n\u001b[0;32m   3507\u001b[0m     indexer \u001b[38;5;241m=\u001b[39m [indexer]\n",
      "File \u001b[1;32m~\\Anaconda3\\envs\\tf_lab\\lib\\site-packages\\pandas\\core\\indexes\\base.py:3623\u001b[0m, in \u001b[0;36mIndex.get_loc\u001b[1;34m(self, key, method, tolerance)\u001b[0m\n\u001b[0;32m   3621\u001b[0m     \u001b[38;5;28;01mreturn\u001b[39;00m \u001b[38;5;28mself\u001b[39m\u001b[38;5;241m.\u001b[39m_engine\u001b[38;5;241m.\u001b[39mget_loc(casted_key)\n\u001b[0;32m   3622\u001b[0m \u001b[38;5;28;01mexcept\u001b[39;00m \u001b[38;5;167;01mKeyError\u001b[39;00m \u001b[38;5;28;01mas\u001b[39;00m err:\n\u001b[1;32m-> 3623\u001b[0m     \u001b[38;5;28;01mraise\u001b[39;00m \u001b[38;5;167;01mKeyError\u001b[39;00m(key) \u001b[38;5;28;01mfrom\u001b[39;00m \u001b[38;5;21;01merr\u001b[39;00m\n\u001b[0;32m   3624\u001b[0m \u001b[38;5;28;01mexcept\u001b[39;00m \u001b[38;5;167;01mTypeError\u001b[39;00m:\n\u001b[0;32m   3625\u001b[0m     \u001b[38;5;66;03m# If we have a listlike key, _check_indexing_error will raise\u001b[39;00m\n\u001b[0;32m   3626\u001b[0m     \u001b[38;5;66;03m#  InvalidIndexError. Otherwise we fall through and re-raise\u001b[39;00m\n\u001b[0;32m   3627\u001b[0m     \u001b[38;5;66;03m#  the TypeError.\u001b[39;00m\n\u001b[0;32m   3628\u001b[0m     \u001b[38;5;28mself\u001b[39m\u001b[38;5;241m.\u001b[39m_check_indexing_error(key)\n",
      "\u001b[1;31mKeyError\u001b[0m: 'czas'"
     ]
    }
   ],
   "source": [
    "data['abcd']=data['czas'].dt.hour"
   ]
  },
  {
   "cell_type": "code",
   "execution_count": null,
   "metadata": {},
   "outputs": [],
   "source": [
    "pd.Timestamp('2022-05-01  05:00')"
   ]
  },
  {
   "cell_type": "code",
   "execution_count": null,
   "metadata": {},
   "outputs": [],
   "source": [
    "aaa=pd.Timestamp('2022-05-01  05:00')"
   ]
  },
  {
   "cell_type": "code",
   "execution_count": null,
   "metadata": {},
   "outputs": [],
   "source": [
    "dir(aaa)"
   ]
  },
  {
   "cell_type": "code",
   "execution_count": null,
   "metadata": {},
   "outputs": [],
   "source": [
    "aaa.hour"
   ]
  },
  {
   "cell_type": "code",
   "execution_count": null,
   "metadata": {},
   "outputs": [],
   "source": [
    "data.to_excel('aaa.xlsx')\n"
   ]
  },
  {
   "cell_type": "code",
   "execution_count": null,
   "metadata": {},
   "outputs": [],
   "source": [
    "data.to_csv('aaa.csv')"
   ]
  },
  {
   "cell_type": "code",
   "execution_count": null,
   "metadata": {},
   "outputs": [],
   "source": [
    "data.to_csv('aaa.txt')\n"
   ]
  },
  {
   "cell_type": "code",
   "execution_count": null,
   "metadata": {},
   "outputs": [],
   "source": [
    "data['klucz']=1\n"
   ]
  },
  {
   "cell_type": "code",
   "execution_count": null,
   "metadata": {},
   "outputs": [],
   "source": [
    "data"
   ]
  },
  {
   "cell_type": "code",
   "execution_count": null,
   "metadata": {},
   "outputs": [],
   "source": [
    "aaa=data.copy()\n",
    "\n",
    "bbb=data.copy()\n",
    "bbb['klucz']=2"
   ]
  },
  {
   "cell_type": "code",
   "execution_count": null,
   "metadata": {},
   "outputs": [],
   "source": [
    "aaa"
   ]
  },
  {
   "cell_type": "code",
   "execution_count": null,
   "metadata": {},
   "outputs": [],
   "source": [
    "bbb"
   ]
  },
  {
   "cell_type": "code",
   "execution_count": null,
   "metadata": {},
   "outputs": [],
   "source": [
    "zzz=pd.concat([aaa,bbb]).reset_index(drop=True)"
   ]
  },
  {
   "cell_type": "code",
   "execution_count": null,
   "metadata": {},
   "outputs": [],
   "source": [
    "zzz[zzz['klucz'] ==1]"
   ]
  },
  {
   "cell_type": "code",
   "execution_count": null,
   "metadata": {},
   "outputs": [],
   "source": [
    "df = pd.read_excel('energia.xlsx',index_col=0).iloc[:, :2]"
   ]
  },
  {
   "cell_type": "code",
   "execution_count": null,
   "metadata": {},
   "outputs": [],
   "source": [
    "df"
   ]
  },
  {
   "cell_type": "code",
   "execution_count": null,
   "metadata": {},
   "outputs": [],
   "source": [
    "df[ (df['Data']>=pd.Timestamp(2017,1,1)) &(df['Data']<=pd.Timestamp(2017,12,31,23))]"
   ]
  },
  {
   "cell_type": "code",
   "execution_count": null,
   "metadata": {},
   "outputs": [],
   "source": []
  }
 ],
 "metadata": {
  "kernelspec": {
   "display_name": "Python 3 (ipykernel)",
   "language": "python",
   "name": "python3"
  },
  "language_info": {
   "codemirror_mode": {
    "name": "ipython",
    "version": 3
   },
   "file_extension": ".py",
   "mimetype": "text/x-python",
   "name": "python",
   "nbconvert_exporter": "python",
   "pygments_lexer": "ipython3",
   "version": "3.8.13"
  },
  "toc": {
   "base_numbering": 1,
   "nav_menu": {},
   "number_sections": true,
   "sideBar": true,
   "skip_h1_title": false,
   "title_cell": "Table of Contents",
   "title_sidebar": "Contents",
   "toc_cell": false,
   "toc_position": {},
   "toc_section_display": true,
   "toc_window_display": false
  }
 },
 "nbformat": 4,
 "nbformat_minor": 4
}
